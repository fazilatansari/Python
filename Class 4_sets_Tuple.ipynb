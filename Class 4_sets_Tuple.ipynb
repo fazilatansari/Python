{
 "cells": [
  {
   "cell_type": "code",
   "execution_count": 1,
   "id": "b0037de2",
   "metadata": {},
   "outputs": [
    {
     "name": "stdout",
     "output_type": "stream",
     "text": [
      "[1, 2, 3, 4, 5]\n",
      "[1, 2, 3, 4, 5]\n"
     ]
    }
   ],
   "source": [
    "#Shallow\n",
    "a= [1,2,3,4]\n",
    "b=a    #b will take all values of a \n",
    "a.append(5)  ## a will add 5 at end and same will be copied in b\n",
    "print(a)\n",
    "print(b)"
   ]
  },
  {
   "cell_type": "code",
   "execution_count": 2,
   "id": "111a20ff",
   "metadata": {},
   "outputs": [
    {
     "name": "stdout",
     "output_type": "stream",
     "text": [
      "[1, 2, 3, 4, 5]\n",
      "[1, 2, 3, 4]\n"
     ]
    }
   ],
   "source": [
    "#Deep\n",
    "a= [1,2,3,4]\n",
    "b=a.copy()\n",
    "a.append(5)\n",
    "print(a)\n",
    "print(b)"
   ]
  },
  {
   "cell_type": "code",
   "execution_count": 4,
   "id": "8ff7cb5b",
   "metadata": {},
   "outputs": [
    {
     "name": "stdout",
     "output_type": "stream",
     "text": [
      "['Hi', 1, 2, ['Hello', 'Welcome']]\n"
     ]
    }
   ],
   "source": [
    "a= [\"Hi\", 1,2]\n",
    "b= [\"Hello\", \"Welcome\"]\n",
    "a.append(b) #just ADD after first list\n",
    "print(a)"
   ]
  },
  {
   "cell_type": "code",
   "execution_count": 5,
   "id": "322a7478",
   "metadata": {},
   "outputs": [
    {
     "name": "stdout",
     "output_type": "stream",
     "text": [
      "['Hi', 1, 2, 'Hello', 'Welcome']\n"
     ]
    }
   ],
   "source": [
    "a= [\"Hi\", 1,2]\n",
    "b= [\"Hello\", \"Welcome\"]\n",
    "a.extend(b) # Combine both list as one\n",
    "print(a)"
   ]
  },
  {
   "cell_type": "code",
   "execution_count": 6,
   "id": "eb771eb9",
   "metadata": {},
   "outputs": [
    {
     "name": "stdout",
     "output_type": "stream",
     "text": [
      "<class 'list'>\n"
     ]
    }
   ],
   "source": [
    "b= [\"Hello\", \"Welcome\", \"Home\"]\n",
    "print(type(a))"
   ]
  },
  {
   "cell_type": "code",
   "execution_count": 11,
   "id": "f6c23ef3",
   "metadata": {},
   "outputs": [
    {
     "name": "stdout",
     "output_type": "stream",
     "text": [
      "<class 'list'>\n",
      "False\n",
      "Hello\n",
      "Welcome\n",
      "['Hello', 'Home', 'Welcome']\n",
      "Hello\n"
     ]
    }
   ],
   "source": [
    "a= [\"Hello\", \"Welcome\", \"Home\"]\n",
    "print(type(a))\n",
    "print(isinstance(a,tuple))\n",
    "print(min(a))\n",
    "print(max(a))\n",
    "print(sorted(a))\n",
    "print(a[0])"
   ]
  },
  {
   "cell_type": "code",
   "execution_count": 12,
   "id": "e4968f90",
   "metadata": {},
   "outputs": [
    {
     "name": "stdout",
     "output_type": "stream",
     "text": [
      "False\n"
     ]
    }
   ],
   "source": [
    "print(isinstance(a,tuple))"
   ]
  },
  {
   "cell_type": "code",
   "execution_count": 13,
   "id": "6af8b18d",
   "metadata": {},
   "outputs": [
    {
     "name": "stdout",
     "output_type": "stream",
     "text": [
      "<class 'tuple'>\n",
      "True\n"
     ]
    }
   ],
   "source": [
    "a= (\"Hello\", \"Welcome\", \"Home\")\n",
    "print(type(a))\n",
    "print(isinstance(a,tuple))"
   ]
  },
  {
   "cell_type": "code",
   "execution_count": 14,
   "id": "8a118763",
   "metadata": {},
   "outputs": [
    {
     "name": "stdout",
     "output_type": "stream",
     "text": [
      "<class 'set'>\n",
      "False\n",
      "1\n",
      "9\n",
      "[1, 2, 3, 4, 6, 7, 8, 9]\n"
     ]
    },
    {
     "ename": "TypeError",
     "evalue": "'set' object is not subscriptable",
     "output_type": "error",
     "traceback": [
      "\u001b[1;31m---------------------------------------------------------------------------\u001b[0m",
      "\u001b[1;31mTypeError\u001b[0m                                 Traceback (most recent call last)",
      "Cell \u001b[1;32mIn[14], line 7\u001b[0m\n\u001b[0;32m      5\u001b[0m \u001b[38;5;28mprint\u001b[39m(\u001b[38;5;28mmax\u001b[39m(a))\n\u001b[0;32m      6\u001b[0m \u001b[38;5;28mprint\u001b[39m(\u001b[38;5;28msorted\u001b[39m(a))\n\u001b[1;32m----> 7\u001b[0m \u001b[38;5;28mprint\u001b[39m(a[\u001b[38;5;241m0\u001b[39m])\n",
      "\u001b[1;31mTypeError\u001b[0m: 'set' object is not subscriptable"
     ]
    }
   ],
   "source": [
    "a={1,2,2,3,3,3,4,2,2,6,7,7,8,8,9} #sets\n",
    "print(type(a))\n",
    "print(isinstance(a,tuple))\n",
    "print(min(a))\n",
    "print(max(a))\n",
    "print(sorted(a))\n",
    "print(a[0]) #indexing is not allowed in se"
   ]
  },
  {
   "cell_type": "code",
   "execution_count": 15,
   "id": "ef524578",
   "metadata": {},
   "outputs": [
    {
     "name": "stdout",
     "output_type": "stream",
     "text": [
      "{1, 2, 3, 4, 5, 6, 7}\n",
      "{2, 3, 4, 5}\n",
      "{1}\n",
      "{6, 7}\n"
     ]
    }
   ],
   "source": [
    "a={1,2,3,4,5}\n",
    "b={2,3,4,5,6,7}\n",
    "print(a.union(b))\n",
    "print(a.intersection(b))\n",
    "print(a.difference(b)) #will return the only difference in a from b\n",
    "print(b.difference(a)) #will return the only difference in b from a"
   ]
  },
  {
   "cell_type": "code",
   "execution_count": 16,
   "id": "47440b97",
   "metadata": {},
   "outputs": [
    {
     "name": "stdout",
     "output_type": "stream",
     "text": [
      "True\n"
     ]
    }
   ],
   "source": [
    "a={1,2,3,4,5}\n",
    "b={1,2,3,4,5,6,7}\n",
    "print(a.issubset(b))"
   ]
  },
  {
   "cell_type": "code",
   "execution_count": 17,
   "id": "64baea52",
   "metadata": {},
   "outputs": [
    {
     "name": "stdout",
     "output_type": "stream",
     "text": [
      "['Hi', 'welcome', 'Home', 'Welcome', 'Hello']\n"
     ]
    }
   ],
   "source": [
    "a= [\"Hello\", \"Welcome\",\"Hi\",\"Hi\", \"Home\",\"welcome\"]\n",
    "b=list(set(a)) \n",
    "#We created another variable b which will hold values from a in form of set as sets dont return duplicate values using list function\n",
    "print(b)\n",
    "#returns value of b"
   ]
  },
  {
   "cell_type": "code",
   "execution_count": null,
   "id": "a48df073",
   "metadata": {},
   "outputs": [],
   "source": []
  }
 ],
 "metadata": {
  "kernelspec": {
   "display_name": "Python 3 (ipykernel)",
   "language": "python",
   "name": "python3"
  },
  "language_info": {
   "codemirror_mode": {
    "name": "ipython",
    "version": 3
   },
   "file_extension": ".py",
   "mimetype": "text/x-python",
   "name": "python",
   "nbconvert_exporter": "python",
   "pygments_lexer": "ipython3",
   "version": "3.11.5"
  }
 },
 "nbformat": 4,
 "nbformat_minor": 5
}
