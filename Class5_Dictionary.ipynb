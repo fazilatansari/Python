{
 "cells": [
  {
   "cell_type": "code",
   "execution_count": 4,
   "id": "1d721177",
   "metadata": {},
   "outputs": [
    {
     "name": "stdout",
     "output_type": "stream",
     "text": [
      "<class 'dict'>\n",
      "age\n",
      "name\n",
      "['age', 'location', 'name']\n"
     ]
    }
   ],
   "source": [
    "# dictinary is used to for attributes and their values\n",
    "\n",
    "a = {\"name\": \"Fazilat\" , \"age\": \"25\", \"location\": \"Mumbai\"} #key : Value\n",
    "\n",
    "print(type(a))\n",
    "print(min(a))\n",
    "print(max(a))\n",
    "print(sorted(a))"
   ]
  },
  {
   "cell_type": "code",
   "execution_count": 5,
   "id": "bf26a9e3",
   "metadata": {},
   "outputs": [
    {
     "name": "stdout",
     "output_type": "stream",
     "text": [
      "dict_keys(['name', 'age', 'location'])\n",
      "dict_values(['Fazilat', '25', 'Mumbai'])\n",
      "dict_items([('name', 'Fazilat'), ('age', '25'), ('location', 'Mumbai')])\n"
     ]
    }
   ],
   "source": [
    "\n",
    "a = {\"name\": \"Fazilat\" , \"age\": \"25\", \"location\": \"Mumbai\"} #key : Value\n",
    "\n",
    "print(a.keys())\n",
    "print(a.values())\n",
    "print(a.items())\n"
   ]
  },
  {
   "cell_type": "code",
   "execution_count": null,
   "id": "cc1bacfd",
   "metadata": {},
   "outputs": [],
   "source": []
  }
 ],
 "metadata": {
  "kernelspec": {
   "display_name": "Python 3 (ipykernel)",
   "language": "python",
   "name": "python3"
  },
  "language_info": {
   "codemirror_mode": {
    "name": "ipython",
    "version": 3
   },
   "file_extension": ".py",
   "mimetype": "text/x-python",
   "name": "python",
   "nbconvert_exporter": "python",
   "pygments_lexer": "ipython3",
   "version": "3.11.5"
  }
 },
 "nbformat": 4,
 "nbformat_minor": 5
}
